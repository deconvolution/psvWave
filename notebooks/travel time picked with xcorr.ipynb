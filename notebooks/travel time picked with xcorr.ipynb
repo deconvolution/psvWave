{
 "cells": [
  {
   "cell_type": "markdown",
   "id": "52970318",
   "metadata": {},
   "source": [
    "# Simulating the elastic Marmousi model\n",
    "\n",
    "_Copyright Lars Gebraad, 2022_ https://github.com/larsgeb/psvWave\n",
    "\n",
    "In this notebook it is shown how the `psvWave` package is used to simulate the elastic wavefields through a typical model of a geological structure, by using the AGL Elastic Marmousi model. Note that this notebook (and psvWave in general) uses moment tensor sources, instead of volume/force injections.\n",
    "\n",
    "\n",
    "> Martin, G. S., Wiley, R., and Marfurt, K. J., 2006, Marmousi2: An elastic\n",
    "upgrade for Marmousi: The Leading Edge, 25, 156–166.\n",
    "doi:10.1190/1.2172306"
   ]
  },
  {
   "cell_type": "code",
   "execution_count": 1,
   "id": "2443ebca",
   "metadata": {},
   "outputs": [],
   "source": [
    "import psvWave\n",
    "import numpy\n",
    "import matplotlib.pyplot as plt\n",
    "from scipy import interpolate\n",
    "import matplotlib\n",
    "from mpl_toolkits.axes_grid1.axes_divider import make_axes_locatable\n",
    "import copy\n",
    "import scipy.signal\n",
    "\n",
    "\n",
    "font = { \"size\": 26}\n",
    "matplotlib.rc(\"font\", **font)\n",
    "\n",
    "\n",
    "def interpolate_missing_pixels(image, method=\"nearest\", fill_value=0):\n",
    "    # https://stackoverflow.com/a/68558547/6848887, https://creativecommons.org/licenses/by-sa/4.0/\n",
    "    \n",
    "    mask = numpy.ma.masked_invalid(image).mask\n",
    "    \n",
    "    h, w = image.shape[:2]\n",
    "    xx, yy = numpy.meshgrid(numpy.arange(w), numpy.arange(h))\n",
    "    known_x = xx[~mask]\n",
    "    known_y = yy[~mask]\n",
    "    known_v = image[~mask]\n",
    "    missing_x = xx[mask]\n",
    "    missing_y = yy[mask]\n",
    "    interp_values = interpolate.griddata(\n",
    "        (known_x, known_y),\n",
    "        known_v,\n",
    "        (missing_x, missing_y),\n",
    "        method=method,\n",
    "        fill_value=fill_value,\n",
    "    )\n",
    "    interp_image = image.copy()\n",
    "    interp_image[missing_y, missing_x] = interp_values\n",
    "    return interp_image\n",
    "\n",
    "def divergence(f):\n",
    "    \"\"\"\n",
    "    Computes the divergence of the vector field f, corresponding to dFx/dx + dFy/dy + ...\n",
    "    :param f: List of ndarrays, where every item of the list is one dimension of the vector field\n",
    "    :return: Single ndarray of the same shape as each of the items in f, which corresponds to a scalar field\n",
    "    \"\"\"\n",
    "    num_dims = len(f)\n",
    "    return numpy.ufunc.reduce(numpy.add, [numpy.gradient(f[i], axis=i) for i in range(num_dims)])"
   ]
  },
  {
   "cell_type": "markdown",
   "id": "b60c6979",
   "metadata": {},
   "source": [
    "Zeros travel time matrix are defined"
   ]
  },
  {
   "cell_type": "code",
   "execution_count": 2,
   "id": "7097089a",
   "metadata": {},
   "outputs": [],
   "source": [
    "S1=[10]\n",
    "S3=[5]\n",
    "R1=[[50,200,430]]\n",
    "R3=[[100,200,480]]\n",
    "t=copy.deepcopy(R1)"
   ]
  },
  {
   "cell_type": "markdown",
   "id": "e9401884",
   "metadata": {},
   "source": [
    "First, we load the marmousi model (which was already subsampled x4), and subsample it some further. We don't want to make our simulations too expensive! We will additionally remove the water layer, and use only a cut out.\n",
    "\n",
    "Note that the original Marmousi model has a grid spacing of 1.25 meters. With the combined x4 x2 subsampling, that leaves a grid spacing of 10 meters."
   ]
  },
  {
   "cell_type": "code",
   "execution_count": 3,
   "id": "f87000d6",
   "metadata": {},
   "outputs": [],
   "source": [
    "class medium:\n",
    "    pass\n",
    "\n",
    "marmousi = medium()\n",
    "f=1\n",
    "nx=450\n",
    "nz=500\n",
    "dx=100\n",
    "dz=100\n",
    "dt=.01\n",
    "nt=10000\n",
    "density=numpy.ones([nx,nz])*1000\n",
    "s_veloc=numpy.ones([nx,nz])*0\n",
    "p_veloc=numpy.ones([nx,nz])*1000\n",
    "\n",
    "marmousi.density = density\n",
    "marmousi.s_veloc = s_veloc\n",
    "marmousi.p_veloc = p_veloc"
   ]
  },
  {
   "cell_type": "code",
   "execution_count": null,
   "id": "8894b062",
   "metadata": {},
   "outputs": [],
   "source": []
  },
  {
   "cell_type": "markdown",
   "id": "5920d524",
   "metadata": {},
   "source": [
    "Next, we'll set up the simulations that we want to run. The domain part is mostly defined by the medium. Feel free to tweak the rest of the settings."
   ]
  },
  {
   "cell_type": "code",
   "execution_count": 4,
   "id": "bd8d1447",
   "metadata": {
    "scrolled": false
   },
   "outputs": [
    {
     "name": "stdout",
     "output_type": "stream",
     "text": [
      "Loading configuration file: 'marmousi.conf'.\n",
      "Parsing passed configuration.\n"
     ]
    },
    {
     "ename": "ValueError",
     "evalue": "Mismatch between nr and receivers.ix_receivers or receivers.iz_receivers",
     "output_type": "error",
     "traceback": [
      "\u001b[0;31m---------------------------------------------------------------------------\u001b[0m",
      "\u001b[0;31mValueError\u001b[0m                                Traceback (most recent call last)",
      "\u001b[0;32m/tmp/ipykernel_22267/3988662179.py\u001b[0m in \u001b[0;36m<module>\u001b[0;34m\u001b[0m\n\u001b[1;32m     37\u001b[0m \u001b[0;34m\u001b[0m\u001b[0m\n\u001b[1;32m     38\u001b[0m     \u001b[0mpsvWave\u001b[0m\u001b[0;34m.\u001b[0m\u001b[0mwrite_dictionary\u001b[0m\u001b[0;34m(\u001b[0m\u001b[0;34m\"marmousi.conf\"\u001b[0m\u001b[0;34m,\u001b[0m\u001b[0msettings\u001b[0m\u001b[0;34m)\u001b[0m\u001b[0;34m\u001b[0m\u001b[0;34m\u001b[0m\u001b[0m\n\u001b[0;32m---> 39\u001b[0;31m     \u001b[0msolver\u001b[0m\u001b[0;34m=\u001b[0m\u001b[0mpsvWave\u001b[0m\u001b[0;34m.\u001b[0m\u001b[0mfdModel\u001b[0m\u001b[0;34m(\u001b[0m\u001b[0;34m\"marmousi.conf\"\u001b[0m\u001b[0;34m)\u001b[0m\u001b[0;34m\u001b[0m\u001b[0;34m\u001b[0m\u001b[0m\n\u001b[0m\u001b[1;32m     40\u001b[0m \u001b[0;34m\u001b[0m\u001b[0m\n\u001b[1;32m     41\u001b[0m     \u001b[0mp\u001b[0m\u001b[0;34m,\u001b[0m \u001b[0ms\u001b[0m\u001b[0;34m,\u001b[0m \u001b[0md\u001b[0m \u001b[0;34m=\u001b[0m \u001b[0msolver\u001b[0m\u001b[0;34m.\u001b[0m\u001b[0mget_parameter_fields\u001b[0m\u001b[0;34m(\u001b[0m\u001b[0;34m)\u001b[0m\u001b[0;34m\u001b[0m\u001b[0;34m\u001b[0m\u001b[0m\n",
      "\u001b[0;31mValueError\u001b[0m: Mismatch between nr and receivers.ix_receivers or receivers.iz_receivers"
     ]
    }
   ],
   "source": [
    "settings = psvWave.get_dictionary()\n",
    "\n",
    "for l in numpy.arange(0,numpy.size(S1),1):\n",
    "    settings = {\n",
    "        \"domain\": {\n",
    "            \"nt\": nt,\n",
    "            \"nx_inner\": nx,\n",
    "            \"nz_inner\": nz,\n",
    "            \"nx_inner_boundary\": 0,\n",
    "            \"nz_inner_boundary\": 0,\n",
    "            \"dx\": dx,  # 5 refers to the original subsampling grid size\n",
    "            \"dz\": dz,\n",
    "            \"dt\": dt,\n",
    "        },\n",
    "        \"boundary\": {\"np_boundary\": 50, \"np_factor\": 0.5e-2},\n",
    "        \"medium\": {\"scalar_rho\": numpy.mean(density), \"scalar_vp\": numpy.mean(p_veloc), \"scalar_vs\": numpy.mean(s_veloc)},\n",
    "        \"sources\": {\n",
    "            \"peak_frequency\": f,\n",
    "            \"n_sources\": 1,\n",
    "            \"n_shots\": 1,\n",
    "            \"source_timeshift\": 0,\n",
    "            \"delay_cycles_per_shot\": 0,\n",
    "            \"moment_angles\": [90],\n",
    "            \"ix_sources\": [S1[l]],\n",
    "            \"iz_sources\": [S3[l]],\n",
    "            \"which_source_to_fire_in_which_shot\": [[0]],\n",
    "        },\n",
    "        \"receivers\": {\n",
    "            \"nr\": numpy.size(R1[l])+1,\n",
    "            \"ix_receivers\": [numpy.hstack([R1[l],S1[l]])],\n",
    "            \"iz_receivers\": [numpy.hstack([R3[l],S3[l]])],\n",
    "        },\n",
    "        \"inversion\": {\"snapshot_interval\": 100},\n",
    "        \"basis\": {\"npx\": 1, \"npz\": 1},\n",
    "        \"output\": {\"observed_data_folder\": \".\", \"stf_folder\": \".\"},\n",
    "    }\n",
    "    \n",
    "    psvWave.write_dictionary(\"marmousi.conf\",settings)\n",
    "    solver=psvWave.fdModel(\"marmousi.conf\")\n",
    "    \n",
    "    p, s, d = solver.get_parameter_fields()\n",
    "    \n",
    "    np = settings[\"boundary\"][\"np_boundary\"]\n",
    "    p[:] = numpy.nan\n",
    "    s[:] = numpy.nan\n",
    "    d[:] = numpy.nan\n",
    "    \n",
    "    p[np:-np, np:-np] = marmousi.p_veloc\n",
    "    s[np:-np, np:-np] = marmousi.s_veloc\n",
    "    d[np:-np, np:-np] = marmousi.density\n",
    "\n",
    "    p = interpolate_missing_pixels(p)\n",
    "    s = interpolate_missing_pixels(s)\n",
    "    d = interpolate_missing_pixels(d)\n",
    "    \n",
    "    solver.set_parameter_fields(p, s, d)\n",
    "    \n",
    "    for i_shot in range(solver.n_shots):\n",
    "        solver.forward_simulate(i_shot, omp_threads_override=6)\n",
    "        \n",
    "    all_snapshots = solver.get_snapshots()\n",
    "    all_data = solver.get_synthetic_data()\n",
    "    \n",
    "    for i in numpy.arange(0,numpy.size(R1[l]),1):\n",
    "        tt2=numpy.arange(-dt*(nt-2),dt*(nt+1),dt)\n",
    "        \n",
    "        tt=all_data[0][0][i][:]\n",
    "        \n",
    "        tt3=all_data[0][0][-1][:]\n",
    "        tt4=scipy.signal.correlate(tt,tt3)\n",
    "        \n",
    "        ind=numpy.argmax(tt4)\n",
    "        t[l][i]=tt2[ind]\n",
    "    print(\"\\nShot gather\",l,\"is finished\")"
   ]
  },
  {
   "cell_type": "code",
   "execution_count": null,
   "id": "347a90b6",
   "metadata": {},
   "outputs": [],
   "source": [
    "fig,axes = solver.plot_synthetic_data(exagerration=10)\n",
    "plt.tight_layout()\n",
    "fig.set_size_inches(18, 16)"
   ]
  },
  {
   "cell_type": "code",
   "execution_count": null,
   "id": "c86b9f79",
   "metadata": {},
   "outputs": [],
   "source": [
    "print(numpy.shape(all_data))\n",
    "\n",
    "fig, ax = plt.subplots(figsize=(18, 8))\n",
    "plt.tight_layout()\n",
    "im0 = plt.imshow(\n",
    "    all_snapshots[0][0][10][np:-np, np:-np].T, cmap=plt.get_cmap(\"bone\"), extent=[0, nx * dx, 0, nz * dz]\n",
    ")"
   ]
  },
  {
   "cell_type": "code",
   "execution_count": null,
   "id": "f676cba5",
   "metadata": {},
   "outputs": [],
   "source": [
    "t"
   ]
  },
  {
   "cell_type": "code",
   "execution_count": null,
   "id": "2b997f79",
   "metadata": {},
   "outputs": [],
   "source": [
    "t2=copy.deepcopy(t)\n",
    "for i in numpy.arange(0,numpy.size(S1),1):\n",
    "    for j in numpy.arange(0,numpy.size(R1[i]),1):\n",
    "        t2[i][j]=numpy.sqrt((S1[i]-R1[i][j])**2+(S3[i]-R3[i][j])**2)*dx/numpy.mean(p_veloc)\n",
    "t2"
   ]
  },
  {
   "cell_type": "code",
   "execution_count": null,
   "id": "f5a01be7",
   "metadata": {},
   "outputs": [],
   "source": [
    "e=copy.deepcopy(t)\n",
    "for i in numpy.arange(0,numpy.size(S1),1):\n",
    "    e[i]=(numpy.array(t[i])-numpy.array(t2[i])) / numpy.array(t2[i])\n",
    "e"
   ]
  },
  {
   "cell_type": "code",
   "execution_count": null,
   "id": "2d3b7513",
   "metadata": {},
   "outputs": [],
   "source": []
  }
 ],
 "metadata": {
  "kernelspec": {
   "display_name": "Python 3 (ipykernel)",
   "language": "python",
   "name": "python3"
  },
  "language_info": {
   "codemirror_mode": {
    "name": "ipython",
    "version": 3
   },
   "file_extension": ".py",
   "mimetype": "text/x-python",
   "name": "python",
   "nbconvert_exporter": "python",
   "pygments_lexer": "ipython3",
   "version": "3.9.7"
  }
 },
 "nbformat": 4,
 "nbformat_minor": 5
}
